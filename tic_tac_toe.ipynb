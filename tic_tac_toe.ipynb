{
 "cells": [
  {
   "cell_type": "code",
   "execution_count": 27,
   "id": "13dbd4d9-83da-4108-8456-3860db673fd5",
   "metadata": {},
   "outputs": [],
   "source": [
    "# TIC TAC TOE GAME"
   ]
  },
  {
   "cell_type": "code",
   "execution_count": 28,
   "id": "0474ebea-a8de-4288-84d9-7a64a3a5bfec",
   "metadata": {},
   "outputs": [],
   "source": [
    "board = {1:'_',2:'_',3:'_',4:'_',5:'_',6:'_',7:'_',8:'_',9:'_'}"
   ]
  },
  {
   "cell_type": "code",
   "execution_count": 29,
   "id": "c0350412-3b55-472b-a67d-e546f1681648",
   "metadata": {},
   "outputs": [],
   "source": [
    "def refresh():\n",
    "    for i in range(1,10):\n",
    "        board[i] = '_'"
   ]
  },
  {
   "cell_type": "code",
   "execution_count": 30,
   "id": "cad1d66b-b821-4307-b6fa-61d5d5212488",
   "metadata": {},
   "outputs": [],
   "source": [
    "def display():\n",
    "    for i in board:\n",
    "       print(board[i],end=\" \")\n",
    "       if i%3==0:\n",
    "        print('\\n')\n",
    "   "
   ]
  },
  {
   "cell_type": "code",
   "execution_count": 31,
   "id": "18a7797c-bcc1-42c3-98fc-a2ab8959116c",
   "metadata": {},
   "outputs": [],
   "source": [
    "def check_winner(T):\n",
    "    win = [[1,2,3],[4,5,6],[7,8,9],[1,4,7],[2,5,8],[3,6,9],[1,5,9],[3,5,7]]\n",
    "    flag = 0\n",
    "    for w in win:\n",
    "        if(board[w[0]] == T) and ( board[w[1]] == T) and (board[w[2]] == T):\n",
    "            flag = 1\n",
    "            break\n",
    "        else:\n",
    "            flag = 0\n",
    "    if flag == 1:\n",
    "        return True\n",
    "    else:\n",
    "        return False"
   ]
  },
  {
   "cell_type": "code",
   "execution_count": 32,
   "id": "0459d59b-5dbc-4c7a-91f6-20d037f85a3e",
   "metadata": {},
   "outputs": [],
   "source": [
    "import re\n",
    "regex = re.compile(r'[1-9]')"
   ]
  },
  {
   "cell_type": "code",
   "execution_count": 33,
   "id": "d4ba7c03-a203-4a2f-a13c-56ed4d0591dd",
   "metadata": {},
   "outputs": [
    {
     "name": "stdout",
     "output_type": "stream",
     "text": [
      "TIC TAC TOE GAME\n",
      "_ _ _ \n",
      "\n",
      "_ _ _ \n",
      "\n",
      "_ _ _ \n",
      "\n"
     ]
    },
    {
     "name": "stdin",
     "output_type": "stream",
     "text": [
      "Player One (X):  a\n"
     ]
    },
    {
     "name": "stdout",
     "output_type": "stream",
     "text": [
      "Invalid input!!! Please Try Again(1-9)\n"
     ]
    },
    {
     "name": "stdin",
     "output_type": "stream",
     "text": [
      "Player One (X):  1\n"
     ]
    },
    {
     "name": "stdout",
     "output_type": "stream",
     "text": [
      "X _ _ \n",
      "\n",
      "_ _ _ \n",
      "\n",
      "_ _ _ \n",
      "\n"
     ]
    },
    {
     "name": "stdin",
     "output_type": "stream",
     "text": [
      "Player One (O):  2\n"
     ]
    },
    {
     "name": "stdout",
     "output_type": "stream",
     "text": [
      "X O _ \n",
      "\n",
      "_ _ _ \n",
      "\n",
      "_ _ _ \n",
      "\n"
     ]
    },
    {
     "name": "stdin",
     "output_type": "stream",
     "text": [
      "Player One (X):  3\n"
     ]
    },
    {
     "name": "stdout",
     "output_type": "stream",
     "text": [
      "X O X \n",
      "\n",
      "_ _ _ \n",
      "\n",
      "_ _ _ \n",
      "\n"
     ]
    },
    {
     "name": "stdin",
     "output_type": "stream",
     "text": [
      "Player One (O):  4\n"
     ]
    },
    {
     "name": "stdout",
     "output_type": "stream",
     "text": [
      "X O X \n",
      "\n",
      "O _ _ \n",
      "\n",
      "_ _ _ \n",
      "\n"
     ]
    },
    {
     "name": "stdin",
     "output_type": "stream",
     "text": [
      "Player One (X):  5\n"
     ]
    },
    {
     "name": "stdout",
     "output_type": "stream",
     "text": [
      "X O X \n",
      "\n",
      "O X _ \n",
      "\n",
      "_ _ _ \n",
      "\n"
     ]
    },
    {
     "name": "stdin",
     "output_type": "stream",
     "text": [
      "Player One (O):  6\n"
     ]
    },
    {
     "name": "stdout",
     "output_type": "stream",
     "text": [
      "X O X \n",
      "\n",
      "O X O \n",
      "\n",
      "_ _ _ \n",
      "\n"
     ]
    },
    {
     "name": "stdin",
     "output_type": "stream",
     "text": [
      "Player One (X):  7\n"
     ]
    },
    {
     "name": "stdout",
     "output_type": "stream",
     "text": [
      "X wins!!!\n",
      "X O X \n",
      "\n",
      "O X O \n",
      "\n",
      "X _ _ \n",
      "\n"
     ]
    }
   ],
   "source": [
    "print(\"TIC TAC TOE GAME\")\n",
    "refresh()\n",
    "for i in range(9):\n",
    "    display()\n",
    "    \n",
    "    # GAME STARTS HERE\n",
    "    if i%2==0:\n",
    "      while(True):\n",
    "        i = input(\"Player One (X): \")\n",
    "        if(regex.search(i) and board[int(i)] == '_'):\n",
    "           board[int(i)] = 'X'\n",
    "           break\n",
    "        else:\n",
    "           print(\"Invalid input!!! Please Try Again(1-9)\")\n",
    "       \n",
    "    else:\n",
    "       while(True):\n",
    "        i = input(\"Player One (O): \")\n",
    "        if(regex.search(i) and board[int(i)] == '_'):\n",
    "           board[int(i)] = 'O'\n",
    "           break\n",
    "        else:\n",
    "           print(\"Invalid input!!! Please Try Again(1-9)\")\n",
    "\n",
    "    if check_winner('O'):\n",
    "        print(\"O wins!!!\")\n",
    "        display()\n",
    "        break\n",
    "    if check_winner('X'):\n",
    "        print(\"X wins!!!\")\n",
    "        display()\n",
    "        break\n",
    "    if i==8:\n",
    "        print(\"Draw!!!\")\n",
    "        display()\n",
    "\n"
   ]
  },
  {
   "cell_type": "code",
   "execution_count": null,
   "id": "3a46013b-d554-4fca-a306-b1ed203f2777",
   "metadata": {},
   "outputs": [],
   "source": []
  }
 ],
 "metadata": {
  "kernelspec": {
   "display_name": "Python 3 (ipykernel)",
   "language": "python",
   "name": "python3"
  },
  "language_info": {
   "codemirror_mode": {
    "name": "ipython",
    "version": 3
   },
   "file_extension": ".py",
   "mimetype": "text/x-python",
   "name": "python",
   "nbconvert_exporter": "python",
   "pygments_lexer": "ipython3",
   "version": "3.12.4"
  }
 },
 "nbformat": 4,
 "nbformat_minor": 5
}
